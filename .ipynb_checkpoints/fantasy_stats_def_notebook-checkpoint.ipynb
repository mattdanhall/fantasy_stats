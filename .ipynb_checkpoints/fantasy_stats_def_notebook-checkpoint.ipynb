{
 "cells": [
  {
   "cell_type": "markdown",
   "metadata": {},
   "source": [
    "### TO DO ###\n",
    "\n",
    "- [x] Fix no data for first week\n",
    "- [x] Add cumulative to standings\n",
    "- [x] Check by week when new data comes\n",
    "- [ ] Add value for players who don't play\n",
    "- [ ] Goal difference statistic\n",
    "- [ ] Above or below average score\n",
    "- [ ] Pandas Stylesheet\n",
    "- [ ] Graphs"
   ]
  },
  {
   "cell_type": "code",
   "execution_count": 1,
   "metadata": {},
   "outputs": [],
   "source": [
    "import requests\n",
    "import pandas as pd\n",
    "import matplotlib.pyplot as plt"
   ]
  },
  {
   "cell_type": "markdown",
   "metadata": {},
   "source": [
    "#### Definitions ####"
   ]
  },
  {
   "cell_type": "code",
   "execution_count": 2,
   "metadata": {},
   "outputs": [],
   "source": [
    "owners = ['Luke', 'Emma', 'Fat', 'Olivia', 'Claire', 'Matt', 'George']\n",
    "owner_ids = ['18900', '18935', '18967', '19180', '19424', '20043', '20626']\n",
    "team_details_url = {}\n",
    "lineup_url = {}\n",
    "\n",
    "for owner_id, owner in enumerate(owners):\n",
    "    team_details_url[owner] = 'https://draft.premierleague.com/api/entry/' + owner_ids[owner_id] + '/history'\n",
    "    for gameweek in range(1, 39):\n",
    "        lineup_url[owner, gameweek] = 'https://draft.premierleague.com/api/entry/' + owner_ids[\n",
    "            owner_id] + '/event/' + str(gameweek)\n",
    "\n",
    "bootstrap_url = 'https://draft.premierleague.com/api/bootstrap-static'\n",
    "fantasy_bootstrap_url = 'https://fantasy.premierleague.com/api/bootstrap-static/'\n",
    "player_owner_url = 'https://draft.premierleague.com/api/league/5857/element-status'\n",
    "league_details_url = 'https://draft.premierleague.com/api/league/5857/details'\n",
    "transactions_url = 'https://draft.premierleague.com/api/draft/league/5857/transactions'\n",
    "\n",
    "current_gameweek = requests.get(bootstrap_url).json()['events']['current']\n",
    "total_fantasy_players = requests.get(fantasy_bootstrap_url).json()['total_players']\n",
    "\n",
    "\n",
    "def url_to_df(url, datatype):\n",
    "    request = requests.get(url)\n",
    "    json = request.json()\n",
    "    df = pd.DataFrame(json[datatype])\n",
    "    return df"
   ]
  },
  {
   "cell_type": "markdown",
   "metadata": {},
   "source": [
    "#### Create Dataframes ####"
   ]
  },
  {
   "cell_type": "code",
   "execution_count": 86,
   "metadata": {},
   "outputs": [],
   "source": [
    "raw_player_types_df = url_to_df(bootstrap_url, 'element_types')\n",
    "\n",
    "raw_teams_df = url_to_df(bootstrap_url, 'teams')\n",
    "\n",
    "raw_player_owner_df = url_to_df(player_owner_url, 'element_status')\n",
    "raw_player_owner_df = raw_player_owner_df.sort_values('element', ignore_index=True)\n",
    "\n",
    "raw_league_entries_df = url_to_df(league_details_url, 'league_entries')\n",
    "raw_league_standings_df = url_to_df(league_details_url, 'standings')\n",
    "raw_league_standings_df = raw_league_standings_df.sort_values('league_entry', ignore_index=True)\n",
    "raw_league_standings_df = pd.concat(\n",
    "    [raw_league_entries_df[['entry_id', 'id', 'entry_name', 'player_first_name', 'waiver_pick']],\n",
    "     raw_league_standings_df[['last_rank', 'rank', 'event_total', 'total']]], axis=1)\n",
    "\n",
    "raw_player_info_df = url_to_df(bootstrap_url, 'elements')\n",
    "raw_player_info_df['team'] = raw_player_info_df.team.map(raw_teams_df.set_index('id').name)\n",
    "raw_player_info_df['element_type'] = raw_player_info_df.element_type.map(\n",
    "    raw_player_types_df.set_index('id').singular_name)\n",
    "raw_player_info_df.insert(3, 'owner',\n",
    "                          raw_player_owner_df.owner.map(raw_league_entries_df.set_index('entry_id').player_first_name))\n",
    "\n",
    "transactions_df = url_to_df(transactions_url, 'transactions')\n",
    "transactions_df['entry'] = transactions_df.entry.map(raw_league_entries_df.set_index('entry_id').player_first_name)\n",
    "transactions_df['player in'] = transactions_df.element_in.map(raw_player_info_df.set_index('id').web_name)\n",
    "transactions_df['player out'] = transactions_df.element_out.map(raw_player_info_df.set_index('id').web_name)\n",
    "transactions_df = transactions_df[['entry', 'event', 'kind', 'result', 'player in', 'player out']]\n",
    "\n",
    "successful_transactions_df = transactions_df.loc[transactions_df['result'] == 'a']\n",
    "failed_transactions_df = transactions_df.loc[transactions_df['result'] != 'a']"
   ]
  },
  {
   "cell_type": "markdown",
   "metadata": {},
   "source": [
    "#### Functions for making specific DataFrames ####"
   ]
  },
  {
   "cell_type": "code",
   "execution_count": 82,
   "metadata": {},
   "outputs": [],
   "source": [
    "def get_league_transactions_df():\n",
    "    league_transactions_df = pd.DataFrame(index=owners, columns=['successful transfers', 'failed transfers'])\n",
    "    for i_owner in owners:\n",
    "        league_transactions_df.loc[i_owner, 'successful transfers'] = successful_transactions_df.loc[transactions_df['entry'] == i_owner]['entry'].count()\n",
    "        league_transactions_df.loc[i_owner, 'failed transfers'] = failed_transactions_df.loc[transactions_df['entry'] == i_owner]['entry'].count()\n",
    "    \n",
    "    league_transactions_df.sort_values('successful transfers', ascending=False)\n",
    "    return league_transactions_df"
   ]
  },
  {
   "cell_type": "code",
   "execution_count": 5,
   "metadata": {},
   "outputs": [],
   "source": [
    "def get_lineup_info(p_owner, p_gameweek=current_gameweek, p_with_totals=True):\n",
    "    # check valid gameweek:\n",
    "    if p_gameweek > current_gameweek:\n",
    "        print(\"Gameweek not yet played\")\n",
    "        return 'ERROR'\n",
    "\n",
    "    # create dataframe:\n",
    "    info_columns = ['name', 'team', 'position']\n",
    "    points_columns = ['minutes', 'goals_scored', 'goals_conceded', 'penalties_missed', 'penalties_saved', 'assists',\n",
    "                      'saves',\n",
    "                      'own_goals', 'yellow_cards', 'red_cards', 'total_points']\n",
    "    lineup_df = pd.DataFrame(columns=info_columns + ['value', 'selected %'] + points_columns,\n",
    "                             index=url_to_df(lineup_url[p_owner, p_gameweek], 'picks')['element'])\n",
    "    lineup_df.insert(15, 'foul points', pd.Series([], dtype=object))\n",
    "\n",
    "    # all player data:\n",
    "    lineup_df['name'] = lineup_df.index.map(raw_player_info_df.set_index('id').web_name)\n",
    "    lineup_df['team'] = lineup_df.index.map(raw_player_info_df.set_index('id').team)\n",
    "    lineup_df['position'] = lineup_df.index.map(raw_player_info_df.set_index('id').element_type)\n",
    "\n",
    "    # player by player data:\n",
    "    for i, player in enumerate(lineup_df.index):\n",
    "        for data in points_columns + ['value', 'selected %']:\n",
    "            lineup_df.loc[lineup_df.index == player, data] = 0\n",
    "        player_url = 'https://draft.premierleague.com/api/element-summary/' + str(player)\n",
    "        player_df = url_to_df(player_url, 'history')\n",
    "        fantasy_player_url = 'https://fantasy.premierleague.com/api/element-summary/' + str(player) + '/'\n",
    "        fantasy_player_df = url_to_df(fantasy_player_url, 'history')\n",
    "        if not player_df.loc[player_df['event'] == p_gameweek].empty:\n",
    "            lineup_df.loc[lineup_df.index == player, 'value'] = \\\n",
    "                fantasy_player_df.loc[fantasy_player_df['round'] == p_gameweek]['value'].iloc[0] / 10\n",
    "            lineup_df.loc[lineup_df.index == player, 'selected %'] = \\\n",
    "                fantasy_player_df.loc[fantasy_player_df['round'] == p_gameweek]['selected'].iloc[\n",
    "                    0] / total_fantasy_players * 100\n",
    "            for data in points_columns:\n",
    "                lineup_df.loc[lineup_df.index == player, data] = \\\n",
    "                    player_df.loc[player_df['event'] == p_gameweek][data].iloc[0]\n",
    "            if not lineup_df.loc[lineup_df.index == player, 'red_cards'].iloc[0] == 0:\n",
    "                lineup_df.loc[lineup_df.index == player, 'foul points'] = 3\n",
    "            elif not lineup_df.loc[lineup_df.index == player, 'yellow_cards'].iloc[0] == 0:\n",
    "                lineup_df.loc[lineup_df.index == player, 'foul points'] = 1\n",
    "            else:\n",
    "                lineup_df.loc[lineup_df.index == player, 'foul points'] = 0\n",
    "\n",
    "    if p_with_totals:\n",
    "        # add totals row:\n",
    "        totals_df = pd.DataFrame(index=['totals (inc. bench)', 'totals'])\n",
    "        for data in info_columns:\n",
    "            totals_df.loc[:, data] = ''\n",
    "        for data in ['value', 'foul points'] + points_columns:\n",
    "            totals_df.loc['totals (inc. bench)', data] = lineup_df[data].sum()\n",
    "            totals_df.loc['totals', data] = lineup_df.head(11)[data].sum()\n",
    "        totals_df.loc['totals (inc. bench)', 'name'] = sum(lineup_df['minutes'] > 0)\n",
    "        totals_df.loc['totals', 'name'] = sum(lineup_df.head(11)['minutes'] > 0)\n",
    "        totals_df.loc['totals (inc. bench)', 'selected %'] = lineup_df['selected %'].mean()\n",
    "        totals_df.loc['totals', 'selected %'] = lineup_df.head(11)['selected %'].mean()\n",
    "        totals_df.loc['totals (inc. bench)', 'team'] = lineup_df['team'].nunique()\n",
    "        totals_df.loc['totals', 'team'] = lineup_df.head(11)['team'].nunique()\n",
    "        lineup_df = pd.concat([lineup_df, totals_df])\n",
    "\n",
    "    # make reader friendly:\n",
    "    lineup_df.index.name = None\n",
    "    lineup_df = lineup_df.rename(columns={'goals_scored': 'goals scored', 'goals_conceded': 'goals conceded',\n",
    "                                          'own_goals': 'own goals', 'yellow_cards': 'yellow cards',\n",
    "                                          'red_cards': 'red cards', 'total_points': 'total points',\n",
    "                                          'penalties_missed': 'penalties missed', 'penalties_saved': 'penalties saved'})\n",
    "    return lineup_df"
   ]
  },
  {
   "cell_type": "code",
   "execution_count": 15,
   "metadata": {},
   "outputs": [],
   "source": [
    "def get_league_points_df(cumulative=True,totals=True):\n",
    "    gameweek_range = range(1, current_gameweek + 1)\n",
    "    # create dataframe:\n",
    "    league_standings_df = pd.DataFrame(columns=gameweek_range, index=owners)\n",
    "    if totals:\n",
    "        league_standings_df.insert(current_gameweek, 'total points', 0)\n",
    "    team_info_df = {}\n",
    "    for i_owner in owners:\n",
    "        team_info_df[i_owner] = url_to_df(team_details_url[i_owner], 'history')\n",
    "        for i_gameweek in gameweek_range:\n",
    "            points = team_info_df[i_owner].loc[team_info_df[i_owner]['event'] == i_gameweek, 'points'].iloc[0]\n",
    "            if i_gameweek == 1 or not cumulative:\n",
    "                league_standings_df.loc[i_owner, i_gameweek] = points\n",
    "            else:\n",
    "                league_standings_df.loc[i_owner, i_gameweek] = league_standings_df.loc[i_owner, i_gameweek - 1] + points\n",
    "        if totals:\n",
    "            if cumulative:\n",
    "                league_standings_df.loc[i_owner, 'total points'] = league_standings_df.loc[i_owner, current_gameweek]\n",
    "            else:\n",
    "                league_standings_df.loc[i_owner, 'total points'] = league_standings_df.loc[i_owner, :].sum()\n",
    "\n",
    "    league_standings_df = league_standings_df.sort_values(league_standings_df.columns[-1], ascending=False)\n",
    "    return league_standings_df"
   ]
  },
  {
   "cell_type": "code",
   "execution_count": 16,
   "metadata": {},
   "outputs": [],
   "source": [
    "def get_league_positions_df():\n",
    "    gameweek_range = range(1, current_gameweek + 1)\n",
    "    league_points_df = get_league_points_df(cumulative=True,totals=False)\n",
    "    league_position_df = pd.DataFrame(columns=gameweek_range, index=owners)\n",
    "    for i_gameweek in gameweek_range:\n",
    "        league_points_df = league_points_df.sort_values(i_gameweek, ascending=False)\n",
    "        for i, i_owner in enumerate(league_points_df.index):\n",
    "            league_position_df.loc[i_owner, i_gameweek] = (i+1)\n",
    "\n",
    "    league_position_df = league_position_df.sort_values(league_position_df.columns[-1], ascending=True)\n",
    "    return league_position_df"
   ]
  },
  {
   "cell_type": "code",
   "execution_count": 26,
   "metadata": {},
   "outputs": [],
   "source": [
    "def get_league_points_gap_df():\n",
    "    gameweek_range = range(1, current_gameweek + 1)\n",
    "    league_points_df = get_league_points_df(cumulative=True,totals=False)\n",
    "    league_points_gap_df = pd.DataFrame(columns=gameweek_range, index=owners)\n",
    "    for i_gameweek in gameweek_range:\n",
    "        gameweek_min = min(league_points_df[i_gameweek])\n",
    "        for i_owner in league_points_df.index:\n",
    "            league_points_gap_df.loc[i_owner, i_gameweek] = league_points_df.loc[i_owner, i_gameweek]-gameweek_min\n",
    "    return league_points_gap_df"
   ]
  },
  {
   "cell_type": "markdown",
   "metadata": {},
   "source": [
    "#### Get all info (only run when new info to retrieve) ####"
   ]
  },
  {
   "cell_type": "code",
   "execution_count": 7,
   "metadata": {},
   "outputs": [],
   "source": [
    "def get_all_lineups():\n",
    "    all_lineups_df = {}\n",
    "    for i_gameweek in range(1, current_gameweek + 1):\n",
    "        for i_owner in owners:\n",
    "            all_lineups_df[i_owner, i_gameweek] = get_lineup_info(i_owner, i_gameweek, True)\n",
    "    return all_lineups_df"
   ]
  },
  {
   "cell_type": "markdown",
   "metadata": {},
   "source": [
    "#### Parse All Lineups DF ####"
   ]
  },
  {
   "cell_type": "code",
   "execution_count": 8,
   "metadata": {},
   "outputs": [],
   "source": [
    "def get_league_stats_df_by_gameweek(all_lineups_df, include_bench=False):\n",
    "    if include_bench:\n",
    "        value_to_get = 'totals (inc. bench)'\n",
    "    else:\n",
    "        value_to_get = 'totals'\n",
    "    stats = ['name', 'team', 'value', 'selected %', 'minutes', 'goals scored', 'goals conceded', 'penalties missed',\n",
    "             'penalties saved', 'assists', 'saves', 'own goals', 'yellow cards', 'red cards', 'foul points',\n",
    "             'total points']\n",
    "    league_stats_df = {}\n",
    "    gameweek_range = range(1, current_gameweek + 1)\n",
    "    for i_gameweek in gameweek_range:\n",
    "        league_stats_df[i_gameweek] = pd.DataFrame(columns=stats + ['weekly position'], index=owners)\n",
    "        league_stats_df[i_gameweek].insert(5, 'productivity', 0)\n",
    "        league_stats_df[i_gameweek].insert(8, 'goal difference', pd.Series([], dtype=object))\n",
    "\n",
    "        for i_owner in owners:\n",
    "            for stat in stats:\n",
    "                league_stats_df[i_gameweek].loc[i_owner, stat] = all_lineups_df[i_owner, i_gameweek].loc[\n",
    "                    value_to_get, stat]\n",
    "        league_stats_df[i_gameweek] = league_stats_df[i_gameweek].sort_values('total points', ascending=False)\n",
    "        for i, i_owner in enumerate(league_stats_df[i_gameweek].index):\n",
    "            league_stats_df[i_gameweek].loc[i_owner, 'productivity'] = \\\n",
    "                league_stats_df[i_gameweek].loc[i_owner, 'total points'] / league_stats_df[i_gameweek].loc[i_owner, 'minutes']\n",
    "            league_stats_df[i_gameweek].loc[i_owner, 'goal difference'] = \\\n",
    "                league_stats_df[i_gameweek].loc[i_owner, 'goals scored'] - league_stats_df[i_gameweek].loc[i_owner, 'goals conceded']\n",
    "            league_stats_df[i_gameweek].loc[i_owner, 'weekly position'] = (i + 1)\n",
    "        league_stats_df[i_gameweek] = league_stats_df[i_gameweek].rename(columns={'name': 'active players'})\n",
    "    return league_stats_df"
   ]
  },
  {
   "cell_type": "code",
   "execution_count": 9,
   "metadata": {},
   "outputs": [],
   "source": [
    "def get_league_stats_df_by_stat(league_stats_df_by_gameweek, stat, total_type='none', sort_by_week=0):\n",
    "    gameweek_range = range(1, current_gameweek + 1)\n",
    "\n",
    "    league_stats_df_by_stat = pd.DataFrame(columns=gameweek_range, index=owners)\n",
    "    if total_type == 'total':\n",
    "        league_stats_df_by_stat.insert(current_gameweek, 'totals', pd.Series([], dtype=object))\n",
    "\n",
    "    for i_owner in owners:\n",
    "        for i_gameweek in gameweek_range:\n",
    "            league_stats_df_by_stat.loc[i_owner, i_gameweek] = league_stats_df_by_gameweek[i_gameweek].loc[i_owner, stat]\n",
    "        if total_type == 'mean' or total_type == 'average':\n",
    "            league_stats_df_by_stat.loc[i_owner, 'average'] = league_stats_df_by_stat.loc[i_owner, gameweek_range].mean()\n",
    "            league_stats_df_by_stat = league_stats_df_by_stat.sort_values('average', ascending=False)\n",
    "        elif total_type == 'total':\n",
    "            league_stats_df_by_stat.loc[i_owner, 'totals'] = league_stats_df_by_stat.loc[i_owner, gameweek_range].sum()\n",
    "            league_stats_df_by_stat = league_stats_df_by_stat.sort_values('totals', ascending=False)\n",
    "\n",
    "    if not sort_by_week == 0:\n",
    "        league_stats_df_by_stat = league_stats_df_by_stat.sort_values(sort_by_week, ascending=False)\n",
    "\n",
    "    return league_stats_df_by_stat"
   ]
  }
 ],
 "metadata": {
  "kernelspec": {
   "display_name": "Python 3",
   "language": "python",
   "name": "python3"
  },
  "language_info": {
   "codemirror_mode": {
    "name": "ipython",
    "version": 3
   },
   "file_extension": ".py",
   "mimetype": "text/x-python",
   "name": "python",
   "nbconvert_exporter": "python",
   "pygments_lexer": "ipython3",
   "version": "3.8.5"
  }
 },
 "nbformat": 4,
 "nbformat_minor": 4
}
